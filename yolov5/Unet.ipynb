{
 "cells": [
  {
   "cell_type": "markdown",
   "id": "fa82c072",
   "metadata": {},
   "source": [
    "# 整体思路\n",
    "思路是使用Unet网络，输入三通道图片和掩膜，\n",
    "\n",
    "掩膜是所有钢筋画到一副二值图上，每个钢筋只画中心点，半径为min(w, h)/3，\n",
    "\n",
    "然后进行50次迭代，\n",
    "\n",
    "使用大津法（OTSU）将生成的概率图二值化，最后识别结果轮廓，得到每个钢筋的小框\n",
    "\n",
    "最后比较预测的个数与实际的个数得到效果"
   ]
  },
  {
   "cell_type": "code",
   "execution_count": 1,
   "id": "343b4f647ba43755",
   "metadata": {
    "ExecuteTime": {
     "end_time": "2024-07-10T13:59:38.083260Z",
     "start_time": "2024-07-10T13:59:37.922258Z"
    }
   },
   "outputs": [],
   "source": [
    "import numpy as np\n",
    "\n",
    "import polars as pl\n",
    "import cv2\n",
    "import os"
   ]
  },
  {
   "cell_type": "markdown",
   "id": "3e2b1a83f6bf70b3",
   "metadata": {},
   "source": [
    "# 读取并绘制掩码"
   ]
  },
  {
   "cell_type": "code",
   "execution_count": null,
   "id": "732db1cec32c99c4",
   "metadata": {},
   "outputs": [],
   "source": [
    "csv_df = pl.read_csv('rec/data/train_labels.csv').select([\n",
    "    'ID',\n",
    "    pl.col(' Detection').alias('Detection')\n",
    "])"
   ]
  },
  {
   "cell_type": "code",
   "execution_count": null,
   "id": "92a75cd60e941a60",
   "metadata": {},
   "outputs": [],
   "source": [
    "def draw_seg(lst, origin):\n",
    "    mask = np.zeros(origin.shape[:2], dtype=np.uint8)\n",
    "    for sample in lst:\n",
    "        x_min, y_min, x_max, y_max = [int(i) for i in sample[1].split(' ')]\n",
    "        # 根据rect绘制掩膜二值化\n",
    "        # mask[y_min:y_max, x_min:x_max] = 255\n",
    "        center_x, center_y = ((x_min + x_max) / 2, (y_min + y_max) / 2)\n",
    "        w, h = x_max - x_min, y_max - y_min\n",
    "        r = min(w, h)/3\n",
    "        cv2.circle(mask, (int(center_x), int(center_y)), int(r), (255, 255, 255), -1)\n",
    "        # box = cv2.boxPoints((center, (w,h), 0))\n",
    "        # mask = cv2.drawContours(origin, [box.astype(int)], -1, (0, 255, 0), -1)\n",
    "    return mask"
   ]
  },
  {
   "cell_type": "code",
   "execution_count": null,
   "id": "2d9becedf00b77ce",
   "metadata": {},
   "outputs": [],
   "source": [
    "mask_dir = f'rec/data/mask'\n",
    "os.makedirs(mask_dir, exist_ok=True)\n",
    "for id, df in csv_df.group_by(['ID']):\n",
    "    print(id[0], df)\n",
    "    origin = cv2.imread(f'rec/data/train_dataset/{id[0]}')\n",
    "    \n",
    "    cv2.imwrite(f'{mask_dir}/{id[0]}', draw_seg(df.to_numpy(), origin))"
   ]
  },
  {
   "cell_type": "markdown",
   "id": "a512979e08a35b55",
   "metadata": {},
   "source": [
    "# unet训练"
   ]
  },
  {
   "cell_type": "code",
   "execution_count": 2,
   "id": "initial_id",
   "metadata": {
    "ExecuteTime": {
     "end_time": "2024-07-10T13:59:38.099306Z",
     "start_time": "2024-07-10T13:59:38.085258Z"
    },
    "collapsed": true
   },
   "outputs": [],
   "source": [
    "# from tensorflow.keras.preprocessing.image import ImageDataGenerator"
   ]
  },
  {
   "cell_type": "code",
   "execution_count": 3,
   "id": "2e9597c21dc43c66",
   "metadata": {
    "ExecuteTime": {
     "end_time": "2024-07-10T13:59:43.774956Z",
     "start_time": "2024-07-10T13:59:38.101260Z"
    }
   },
   "outputs": [
    {
     "name": "stderr",
     "output_type": "stream",
     "text": [
      "D:\\software\\anaconda\\lib\\site-packages\\scipy\\__init__.py:146: UserWarning: A NumPy version >=1.16.5 and <1.23.0 is required for this version of SciPy (detected version 1.24.2\n",
      "  warnings.warn(f\"A NumPy version >={np_minversion} and <{np_maxversion}\"\n"
     ]
    },
    {
     "data": {
      "text/plain": [
       "'2.14.0'"
      ]
     },
     "execution_count": 3,
     "metadata": {},
     "output_type": "execute_result"
    }
   ],
   "source": [
    "import tensorflow as tf\n",
    "tf.__version__"
   ]
  },
  {
   "cell_type": "code",
   "execution_count": 4,
   "id": "f2834efd9ccc9de3",
   "metadata": {
    "ExecuteTime": {
     "end_time": "2024-07-10T13:59:43.790912Z",
     "start_time": "2024-07-10T13:59:43.776913Z"
    }
   },
   "outputs": [
    {
     "data": {
      "text/plain": [
       "[]"
      ]
     },
     "execution_count": 4,
     "metadata": {},
     "output_type": "execute_result"
    }
   ],
   "source": [
    "tf.config.list_physical_devices('GPU')"
   ]
  },
  {
   "cell_type": "code",
   "execution_count": 5,
   "id": "a78ad2fe6c3f8309",
   "metadata": {
    "ExecuteTime": {
     "end_time": "2024-07-10T13:59:43.806914Z",
     "start_time": "2024-07-10T13:59:43.793916Z"
    }
   },
   "outputs": [],
   "source": [
    "def ct_preprocessing_function(ct):\n",
    "    ct = ct / 255.\n",
    "    return ct"
   ]
  },
  {
   "cell_type": "code",
   "execution_count": 6,
   "id": "ec138f060a2c7963",
   "metadata": {
    "ExecuteTime": {
     "end_time": "2024-07-10T13:59:43.822912Z",
     "start_time": "2024-07-10T13:59:43.807913Z"
    }
   },
   "outputs": [],
   "source": [
    "from keras.preprocessing.image import ImageDataGenerator\n",
    "\n",
    "ct_data_gen = ImageDataGenerator(\n",
    "    preprocessing_function=ct_preprocessing_function\n",
    ")"
   ]
  },
  {
   "cell_type": "code",
   "execution_count": 7,
   "id": "6c98756c421c0392",
   "metadata": {
    "ExecuteTime": {
     "end_time": "2024-07-10T13:59:43.838956Z",
     "start_time": "2024-07-10T13:59:43.823915Z"
    }
   },
   "outputs": [],
   "source": [
    "def mask_preprocessing_function(mask):\n",
    "    mask = mask / 255.\n",
    "    mask[mask>0.5] = 1\n",
    "    mask[mask<=0.5] = 0\n",
    "    return mask"
   ]
  },
  {
   "cell_type": "code",
   "execution_count": 8,
   "id": "f77d55c5aad2dbd",
   "metadata": {
    "ExecuteTime": {
     "end_time": "2024-07-10T13:59:43.854915Z",
     "start_time": "2024-07-10T13:59:43.839914Z"
    }
   },
   "outputs": [],
   "source": [
    "mask_data_gen = ImageDataGenerator(\n",
    "    preprocessing_function=mask_preprocessing_function\n",
    ")"
   ]
  },
  {
   "cell_type": "code",
   "execution_count": 9,
   "id": "c08d5ec890be280b",
   "metadata": {
    "ExecuteTime": {
     "end_time": "2024-07-10T13:59:43.870947Z",
     "start_time": "2024-07-10T13:59:43.855913Z"
    }
   },
   "outputs": [],
   "source": [
    "generator_path = './rec/data'"
   ]
  },
  {
   "cell_type": "code",
   "execution_count": 10,
   "id": "ea40ee21a2f35f43",
   "metadata": {
    "ExecuteTime": {
     "end_time": "2024-07-10T13:59:43.900920Z",
     "start_time": "2024-07-10T13:59:43.871912Z"
    }
   },
   "outputs": [
    {
     "name": "stdout",
     "output_type": "stream",
     "text": [
      "Found 250 images belonging to 1 classes.\n"
     ]
    }
   ],
   "source": [
    "ct_generator = ct_data_gen.flow_from_directory(\n",
    "    generator_path,\n",
    "    classes=['train_dataset'],\n",
    "    class_mode=None,\n",
    "    color_mode='rgb',\n",
    "    target_size=(128, 128),\n",
    "    batch_size=32,\n",
    "    seed=42\n",
    ")"
   ]
  },
  {
   "cell_type": "code",
   "execution_count": 11,
   "id": "33256959bcc10076",
   "metadata": {
    "ExecuteTime": {
     "end_time": "2024-07-10T13:59:43.932913Z",
     "start_time": "2024-07-10T13:59:43.902916Z"
    }
   },
   "outputs": [
    {
     "name": "stdout",
     "output_type": "stream",
     "text": [
      "Found 250 images belonging to 1 classes.\n"
     ]
    }
   ],
   "source": [
    "mask_generator = mask_data_gen.flow_from_directory(\n",
    "    generator_path,\n",
    "    classes = ['mask'], # 处理的文件夹\n",
    "    class_mode = None,\n",
    "    color_mode = 'grayscale', # 灰度图\n",
    "    target_size = (128,128), # 输出图片大小\n",
    "    batch_size = 32, # 批量大小\n",
    "    # save_to_dir\n",
    "    # save_prefix = 'mask_'\n",
    "    seed = 42\n",
    ")"
   ]
  },
  {
   "cell_type": "markdown",
   "id": "e315c4104803fe28",
   "metadata": {},
   "source": [
    "# 搭建模型"
   ]
  },
  {
   "cell_type": "code",
   "execution_count": 12,
   "id": "e1026d9de40f0b5d",
   "metadata": {
    "ExecuteTime": {
     "end_time": "2024-07-10T13:59:44.060956Z",
     "start_time": "2024-07-10T13:59:43.933912Z"
    }
   },
   "outputs": [],
   "source": [
    "from tensorflow.keras.layers import *"
   ]
  },
  {
   "cell_type": "code",
   "execution_count": 13,
   "id": "9afbbe95989a6b54",
   "metadata": {
    "ExecuteTime": {
     "end_time": "2024-07-10T13:59:44.076913Z",
     "start_time": "2024-07-10T13:59:44.062912Z"
    }
   },
   "outputs": [],
   "source": [
    "import tensorflow as tf \n",
    "\n",
    "img_height = 128\n",
    "img_width = 128\n",
    "channel = 3"
   ]
  },
  {
   "cell_type": "code",
   "execution_count": 14,
   "id": "8d24b0c4d233601d",
   "metadata": {
    "ExecuteTime": {
     "end_time": "2024-07-10T13:59:44.091917Z",
     "start_time": "2024-07-10T13:59:44.078915Z"
    }
   },
   "outputs": [],
   "source": [
    "input_ = Input((img_height, img_width, channel))"
   ]
  },
  {
   "cell_type": "code",
   "execution_count": 15,
   "id": "fe4830fdc6afbd63",
   "metadata": {
    "ExecuteTime": {
     "end_time": "2024-07-10T13:59:44.454707Z",
     "start_time": "2024-07-10T13:59:44.093915Z"
    }
   },
   "outputs": [],
   "source": [
    "# 编码器\n",
    "# 第一块\n",
    "c1 = Conv2D(16, (3,3), activation='relu', kernel_initializer='he_normal', padding='same')(input_)\n",
    "c1 = Dropout(0.2)(c1)\n",
    "c1 = Conv2D(16, (3,3), activation='relu', kernel_initializer='he_normal', padding='same')(c1)\n",
    "p1 = MaxPooling2D((2,2))(c1)\n",
    "p1 = Dropout(0.2)(p1) \n",
    "\n",
    "# 第二块\n",
    "c2 = Conv2D(32, (3,3), activation='relu', kernel_initializer='he_normal', padding='same')(p1)\n",
    "c2 = Dropout(0.2)(c2)\n",
    "c2 = Conv2D(32, (3,3), activation='relu', kernel_initializer='he_normal', padding='same')(c2)\n",
    "p2 = MaxPooling2D((2,2))(c2)\n",
    "p2 = Dropout(0.2)(p2)\n",
    "\n",
    "# 第三块\n",
    "c3 = Conv2D(64, (3,3), activation='relu', kernel_initializer='he_normal', padding='same')(p2)\n",
    "c3 = Dropout(0.2)(c3)\n",
    "c3 = Conv2D(64, (3,3), activation='relu', kernel_initializer='he_normal', padding='same')(c3)\n",
    "p3 = MaxPooling2D((2,2))(c3)\n",
    "p3 = Dropout(0.2)(p3)\n",
    "\n",
    "# 第四块\n",
    "c4 = Conv2D(128, (3,3), activation='relu', kernel_initializer='he_normal', padding='same')(p3)\n",
    "c4 = Dropout(0.2)(c4)\n",
    "c4 = Conv2D(128, (3,3), activation='relu', kernel_initializer='he_normal', padding='same')(c4)\n",
    "p4 = MaxPooling2D((2,2))(c4)\n",
    "p4 = Dropout(0.2)(p4)\n",
    "\n",
    "# 第五块\n",
    "c5 = Conv2D(256, (3,3), activation='relu', kernel_initializer='he_normal', padding='same')(p4)\n",
    "c5 = Conv2D(256, (3,3), activation='relu', kernel_initializer='he_normal', padding='same')(c5)\n",
    "\n",
    "# 解码器\n",
    "# 第四层\n",
    "u6 = Conv2DTranspose(128, (2,2), strides = (2,2), padding='same')(c5)\n",
    "u6 = concatenate([u6,c4])\n",
    "c6 = Conv2D(128, (3,3), activation='relu', kernel_initializer='he_normal', padding='same')(u6)\n",
    "c6 = Conv2D(128, (3,3), activation='relu', kernel_initializer='he_normal', padding='same')(c6)\n",
    "\n",
    "# 第三层\n",
    "u7 = Conv2DTranspose(64, (2,2), strides = (2,2), padding='same')(c6)\n",
    "u7 = concatenate([u7,c3])\n",
    "c7 = Conv2D(64, (3,3), activation='relu', kernel_initializer='he_normal', padding='same')(u7)\n",
    "c7 = Conv2D(64, (3,3), activation='relu', kernel_initializer='he_normal', padding='same')(c7)\n",
    "\n",
    "# 第二层\n",
    "u8 = Conv2DTranspose(32, (2,2), strides = (2,2), padding='same')(c7)\n",
    "u8 = concatenate([u8,c2])\n",
    "c8 = Conv2D(32, (3,3), activation='relu', kernel_initializer='he_normal', padding='same')(u8)\n",
    "c8 = Conv2D(32, (3,3), activation='relu', kernel_initializer='he_normal', padding='same')(c8)\n",
    "\n",
    "# 第一层\n",
    "u9 = Conv2DTranspose(16, (2,2), strides = (2,2), padding='same')(c8)\n",
    "u9 = concatenate([u9,c1])\n",
    "c9 = Conv2D(16, (3,3), activation='relu', kernel_initializer='he_normal', padding='same')(u9)\n",
    "c9 = Conv2D(16, (3,3), activation='relu', kernel_initializer='he_normal', padding='same')(c9)\n",
    "\n",
    "# 输出层\n",
    "outputs = Conv2D(1,(1,1), activation='sigmoid')(c9)"
   ]
  },
  {
   "cell_type": "code",
   "execution_count": 16,
   "id": "fec10a97690da7d1",
   "metadata": {
    "ExecuteTime": {
     "end_time": "2024-07-10T13:59:44.562668Z",
     "start_time": "2024-07-10T13:59:44.456668Z"
    }
   },
   "outputs": [
    {
     "name": "stdout",
     "output_type": "stream",
     "text": [
      "Model: \"model\"\n",
      "__________________________________________________________________________________________________\n",
      " Layer (type)                Output Shape                 Param #   Connected to                  \n",
      "==================================================================================================\n",
      " input_1 (InputLayer)        [(None, 128, 128, 3)]        0         []                            \n",
      "                                                                                                  \n",
      " conv2d (Conv2D)             (None, 128, 128, 16)         448       ['input_1[0][0]']             \n",
      "                                                                                                  \n",
      " dropout (Dropout)           (None, 128, 128, 16)         0         ['conv2d[0][0]']              \n",
      "                                                                                                  \n",
      " conv2d_1 (Conv2D)           (None, 128, 128, 16)         2320      ['dropout[0][0]']             \n",
      "                                                                                                  \n",
      " max_pooling2d (MaxPooling2  (None, 64, 64, 16)           0         ['conv2d_1[0][0]']            \n",
      " D)                                                                                               \n",
      "                                                                                                  \n",
      " dropout_1 (Dropout)         (None, 64, 64, 16)           0         ['max_pooling2d[0][0]']       \n",
      "                                                                                                  \n",
      " conv2d_2 (Conv2D)           (None, 64, 64, 32)           4640      ['dropout_1[0][0]']           \n",
      "                                                                                                  \n",
      " dropout_2 (Dropout)         (None, 64, 64, 32)           0         ['conv2d_2[0][0]']            \n",
      "                                                                                                  \n",
      " conv2d_3 (Conv2D)           (None, 64, 64, 32)           9248      ['dropout_2[0][0]']           \n",
      "                                                                                                  \n",
      " max_pooling2d_1 (MaxPoolin  (None, 32, 32, 32)           0         ['conv2d_3[0][0]']            \n",
      " g2D)                                                                                             \n",
      "                                                                                                  \n",
      " dropout_3 (Dropout)         (None, 32, 32, 32)           0         ['max_pooling2d_1[0][0]']     \n",
      "                                                                                                  \n",
      " conv2d_4 (Conv2D)           (None, 32, 32, 64)           18496     ['dropout_3[0][0]']           \n",
      "                                                                                                  \n",
      " dropout_4 (Dropout)         (None, 32, 32, 64)           0         ['conv2d_4[0][0]']            \n",
      "                                                                                                  \n",
      " conv2d_5 (Conv2D)           (None, 32, 32, 64)           36928     ['dropout_4[0][0]']           \n",
      "                                                                                                  \n",
      " max_pooling2d_2 (MaxPoolin  (None, 16, 16, 64)           0         ['conv2d_5[0][0]']            \n",
      " g2D)                                                                                             \n",
      "                                                                                                  \n",
      " dropout_5 (Dropout)         (None, 16, 16, 64)           0         ['max_pooling2d_2[0][0]']     \n",
      "                                                                                                  \n",
      " conv2d_6 (Conv2D)           (None, 16, 16, 128)          73856     ['dropout_5[0][0]']           \n",
      "                                                                                                  \n",
      " dropout_6 (Dropout)         (None, 16, 16, 128)          0         ['conv2d_6[0][0]']            \n",
      "                                                                                                  \n",
      " conv2d_7 (Conv2D)           (None, 16, 16, 128)          147584    ['dropout_6[0][0]']           \n",
      "                                                                                                  \n",
      " max_pooling2d_3 (MaxPoolin  (None, 8, 8, 128)            0         ['conv2d_7[0][0]']            \n",
      " g2D)                                                                                             \n",
      "                                                                                                  \n",
      " dropout_7 (Dropout)         (None, 8, 8, 128)            0         ['max_pooling2d_3[0][0]']     \n",
      "                                                                                                  \n",
      " conv2d_8 (Conv2D)           (None, 8, 8, 256)            295168    ['dropout_7[0][0]']           \n",
      "                                                                                                  \n",
      " conv2d_9 (Conv2D)           (None, 8, 8, 256)            590080    ['conv2d_8[0][0]']            \n",
      "                                                                                                  \n",
      " conv2d_transpose (Conv2DTr  (None, 16, 16, 128)          131200    ['conv2d_9[0][0]']            \n",
      " anspose)                                                                                         \n",
      "                                                                                                  \n",
      " concatenate (Concatenate)   (None, 16, 16, 256)          0         ['conv2d_transpose[0][0]',    \n",
      "                                                                     'conv2d_7[0][0]']            \n",
      "                                                                                                  \n",
      " conv2d_10 (Conv2D)          (None, 16, 16, 128)          295040    ['concatenate[0][0]']         \n",
      "                                                                                                  \n",
      " conv2d_11 (Conv2D)          (None, 16, 16, 128)          147584    ['conv2d_10[0][0]']           \n",
      "                                                                                                  \n",
      " conv2d_transpose_1 (Conv2D  (None, 32, 32, 64)           32832     ['conv2d_11[0][0]']           \n",
      " Transpose)                                                                                       \n",
      "                                                                                                  \n",
      " concatenate_1 (Concatenate  (None, 32, 32, 128)          0         ['conv2d_transpose_1[0][0]',  \n",
      " )                                                                   'conv2d_5[0][0]']            \n",
      "                                                                                                  \n",
      " conv2d_12 (Conv2D)          (None, 32, 32, 64)           73792     ['concatenate_1[0][0]']       \n",
      "                                                                                                  \n",
      " conv2d_13 (Conv2D)          (None, 32, 32, 64)           36928     ['conv2d_12[0][0]']           \n",
      "                                                                                                  \n",
      " conv2d_transpose_2 (Conv2D  (None, 64, 64, 32)           8224      ['conv2d_13[0][0]']           \n",
      " Transpose)                                                                                       \n",
      "                                                                                                  \n",
      " concatenate_2 (Concatenate  (None, 64, 64, 64)           0         ['conv2d_transpose_2[0][0]',  \n",
      " )                                                                   'conv2d_3[0][0]']            \n",
      "                                                                                                  \n",
      " conv2d_14 (Conv2D)          (None, 64, 64, 32)           18464     ['concatenate_2[0][0]']       \n",
      "                                                                                                  \n",
      " conv2d_15 (Conv2D)          (None, 64, 64, 32)           9248      ['conv2d_14[0][0]']           \n",
      "                                                                                                  \n",
      " conv2d_transpose_3 (Conv2D  (None, 128, 128, 16)         2064      ['conv2d_15[0][0]']           \n",
      " Transpose)                                                                                       \n",
      "                                                                                                  \n",
      " concatenate_3 (Concatenate  (None, 128, 128, 32)         0         ['conv2d_transpose_3[0][0]',  \n",
      " )                                                                   'conv2d_1[0][0]']            \n",
      "                                                                                                  \n",
      " conv2d_16 (Conv2D)          (None, 128, 128, 16)         4624      ['concatenate_3[0][0]']       \n",
      "                                                                                                  \n",
      " conv2d_17 (Conv2D)          (None, 128, 128, 16)         2320      ['conv2d_16[0][0]']           \n",
      "                                                                                                  \n",
      " conv2d_18 (Conv2D)          (None, 128, 128, 1)          17        ['conv2d_17[0][0]']           \n",
      "                                                                                                  \n",
      "==================================================================================================\n",
      "Total params: 1941105 (7.40 MB)\n",
      "Trainable params: 1941105 (7.40 MB)\n",
      "Non-trainable params: 0 (0.00 Byte)\n",
      "__________________________________________________________________________________________________\n"
     ]
    }
   ],
   "source": [
    "model = tf.keras.Model(inputs = [input_],outputs = [outputs])\n",
    "model.summary()"
   ]
  },
  {
   "cell_type": "code",
   "execution_count": 17,
   "id": "d2684c308786a524",
   "metadata": {
    "ExecuteTime": {
     "end_time": "2024-07-10T13:59:44.594665Z",
     "start_time": "2024-07-10T13:59:44.564665Z"
    }
   },
   "outputs": [],
   "source": [
    "model.compile(optimizer = 'adam',\n",
    "             loss = 'binary_crossentropy',\n",
    "             metrics = ['accuracy'])"
   ]
  },
  {
   "cell_type": "code",
   "execution_count": 18,
   "id": "e0f0d10415cae1b",
   "metadata": {
    "ExecuteTime": {
     "end_time": "2024-07-10T14:27:01.710285Z",
     "start_time": "2024-07-10T13:59:44.595666Z"
    }
   },
   "outputs": [
    {
     "name": "stdout",
     "output_type": "stream",
     "text": [
      "Epoch 1/50\n",
      "8/8 [==============================] - 35s 4s/step - loss: 0.7330 - accuracy: 0.5573\n",
      "Epoch 2/50\n",
      "8/8 [==============================] - 32s 4s/step - loss: 0.4528 - accuracy: 0.8782\n",
      "Epoch 3/50\n",
      "8/8 [==============================] - 31s 4s/step - loss: 0.3554 - accuracy: 0.8809\n",
      "Epoch 4/50\n",
      "8/8 [==============================] - 26s 3s/step - loss: 0.3168 - accuracy: 0.8811\n",
      "Epoch 5/50\n",
      "8/8 [==============================] - 26s 3s/step - loss: 0.2963 - accuracy: 0.8811\n",
      "Epoch 6/50\n",
      "8/8 [==============================] - 46s 6s/step - loss: 0.2831 - accuracy: 0.8812\n",
      "Epoch 7/50\n",
      "8/8 [==============================] - 53s 6s/step - loss: 0.2708 - accuracy: 0.8813\n",
      "Epoch 8/50\n",
      "8/8 [==============================] - 37s 4s/step - loss: 0.2621 - accuracy: 0.8817\n",
      "Epoch 9/50\n",
      "8/8 [==============================] - 29s 4s/step - loss: 0.2545 - accuracy: 0.8824\n",
      "Epoch 10/50\n",
      "8/8 [==============================] - 32s 4s/step - loss: 0.2482 - accuracy: 0.8831\n",
      "Epoch 11/50\n",
      "8/8 [==============================] - 30s 4s/step - loss: 0.2418 - accuracy: 0.8844\n",
      "Epoch 12/50\n",
      "8/8 [==============================] - 35s 4s/step - loss: 0.2417 - accuracy: 0.8860\n",
      "Epoch 13/50\n",
      "8/8 [==============================] - 29s 4s/step - loss: 0.2357 - accuracy: 0.8879\n",
      "Epoch 14/50\n",
      "8/8 [==============================] - 30s 4s/step - loss: 0.2282 - accuracy: 0.8905\n",
      "Epoch 15/50\n",
      "8/8 [==============================] - 29s 4s/step - loss: 0.2256 - accuracy: 0.8929\n",
      "Epoch 16/50\n",
      "8/8 [==============================] - 29s 4s/step - loss: 0.2198 - accuracy: 0.8960\n",
      "Epoch 17/50\n",
      "8/8 [==============================] - 28s 3s/step - loss: 0.2170 - accuracy: 0.8989\n",
      "Epoch 18/50\n",
      "8/8 [==============================] - 30s 4s/step - loss: 0.2144 - accuracy: 0.9019\n",
      "Epoch 19/50\n",
      "8/8 [==============================] - 28s 3s/step - loss: 0.2118 - accuracy: 0.9047\n",
      "Epoch 20/50\n",
      "8/8 [==============================] - 28s 3s/step - loss: 0.2090 - accuracy: 0.9077\n",
      "Epoch 21/50\n",
      "8/8 [==============================] - 37s 5s/step - loss: 0.2073 - accuracy: 0.9094\n",
      "Epoch 22/50\n",
      "8/8 [==============================] - 41s 5s/step - loss: 0.2052 - accuracy: 0.9110\n",
      "Epoch 23/50\n",
      "8/8 [==============================] - 36s 4s/step - loss: 0.2010 - accuracy: 0.9128\n",
      "Epoch 24/50\n",
      "8/8 [==============================] - 33s 4s/step - loss: 0.1980 - accuracy: 0.9138\n",
      "Epoch 25/50\n",
      "8/8 [==============================] - 31s 4s/step - loss: 0.1967 - accuracy: 0.9149\n",
      "Epoch 26/50\n",
      "8/8 [==============================] - 41s 5s/step - loss: 0.1940 - accuracy: 0.9162\n",
      "Epoch 27/50\n",
      "8/8 [==============================] - 34s 4s/step - loss: 0.1910 - accuracy: 0.9178\n",
      "Epoch 28/50\n",
      "8/8 [==============================] - 37s 5s/step - loss: 0.1908 - accuracy: 0.9178\n",
      "Epoch 29/50\n",
      "8/8 [==============================] - 33s 4s/step - loss: 0.1862 - accuracy: 0.9200\n",
      "Epoch 30/50\n",
      "8/8 [==============================] - 32s 4s/step - loss: 0.1867 - accuracy: 0.9201\n",
      "Epoch 31/50\n",
      "8/8 [==============================] - 32s 4s/step - loss: 0.1858 - accuracy: 0.9205\n",
      "Epoch 32/50\n",
      "8/8 [==============================] - 33s 4s/step - loss: 0.1825 - accuracy: 0.9220\n",
      "Epoch 33/50\n",
      "8/8 [==============================] - 32s 4s/step - loss: 0.1799 - accuracy: 0.9229\n",
      "Epoch 34/50\n",
      "8/8 [==============================] - 29s 4s/step - loss: 0.1791 - accuracy: 0.9234\n",
      "Epoch 35/50\n",
      "8/8 [==============================] - 30s 4s/step - loss: 0.1797 - accuracy: 0.9235\n",
      "Epoch 36/50\n",
      "8/8 [==============================] - 31s 4s/step - loss: 0.1754 - accuracy: 0.9251\n",
      "Epoch 37/50\n",
      "8/8 [==============================] - 30s 4s/step - loss: 0.1740 - accuracy: 0.9258\n",
      "Epoch 38/50\n",
      "8/8 [==============================] - 30s 4s/step - loss: 0.1718 - accuracy: 0.9266\n",
      "Epoch 39/50\n",
      "8/8 [==============================] - 38s 5s/step - loss: 0.1707 - accuracy: 0.9273\n",
      "Epoch 40/50\n",
      "8/8 [==============================] - 37s 4s/step - loss: 0.1691 - accuracy: 0.9283\n",
      "Epoch 41/50\n",
      "8/8 [==============================] - 34s 4s/step - loss: 0.1673 - accuracy: 0.9287\n",
      "Epoch 42/50\n",
      "8/8 [==============================] - 30s 4s/step - loss: 0.1668 - accuracy: 0.9291\n",
      "Epoch 43/50\n",
      "8/8 [==============================] - 30s 4s/step - loss: 0.1650 - accuracy: 0.9298\n",
      "Epoch 44/50\n",
      "8/8 [==============================] - 28s 3s/step - loss: 0.1638 - accuracy: 0.9305\n",
      "Epoch 45/50\n",
      "8/8 [==============================] - 29s 4s/step - loss: 0.1619 - accuracy: 0.9313\n",
      "Epoch 46/50\n",
      "8/8 [==============================] - 33s 4s/step - loss: 0.1614 - accuracy: 0.9314\n",
      "Epoch 47/50\n",
      "8/8 [==============================] - 29s 4s/step - loss: 0.1606 - accuracy: 0.9318\n",
      "Epoch 48/50\n",
      "8/8 [==============================] - 31s 4s/step - loss: 0.1599 - accuracy: 0.9324\n",
      "Epoch 49/50\n",
      "8/8 [==============================] - 32s 4s/step - loss: 0.1588 - accuracy: 0.9327\n",
      "Epoch 50/50\n",
      "8/8 [==============================] - 33s 4s/step - loss: 0.1581 - accuracy: 0.9330\n"
     ]
    }
   ],
   "source": [
    "train_history = model.fit(zip(ct_generator,mask_generator),\n",
    "                         epochs = 50,\n",
    "                         steps_per_epoch=len(ct_generator)) "
   ]
  },
  {
   "cell_type": "code",
   "execution_count": 24,
   "id": "f0cb97a544ed0823",
   "metadata": {
    "ExecuteTime": {
     "end_time": "2024-07-10T14:33:06.410526Z",
     "start_time": "2024-07-10T14:33:06.136928Z"
    }
   },
   "outputs": [],
   "source": [
    "#保存 model\n",
    "os.makedirs('rec/model', exist_ok=True)\n",
    "model.save('rec/model/segmentation_model.keras')"
   ]
  },
  {
   "cell_type": "markdown",
   "id": "89317592c7cdcd83",
   "metadata": {},
   "source": [
    "# 输出结果"
   ]
  },
  {
   "cell_type": "code",
   "execution_count": 25,
   "id": "e78100e624470433",
   "metadata": {
    "ExecuteTime": {
     "end_time": "2024-07-10T14:33:24.212893Z",
     "start_time": "2024-07-10T14:33:24.205891Z"
    }
   },
   "outputs": [],
   "source": [
    "import matplotlib.pyplot as plt\n",
    "import numpy as np\n",
    "plt.rcParams['font.sans-serif']='SimHei'\n",
    "plt.rcParams['axes.unicode_minus']= False"
   ]
  },
  {
   "cell_type": "code",
   "execution_count": 34,
   "id": "2d1d959af70ac957",
   "metadata": {
    "ExecuteTime": {
     "end_time": "2024-07-10T14:41:27.713175Z",
     "start_time": "2024-07-10T14:41:27.698178Z"
    }
   },
   "outputs": [],
   "source": [
    "import os\n",
    "def file_iter(path):\n",
    "    for fname in os.listdir(path):\n",
    "        file_path = os.path.join(path, fname)\n",
    "        if os.path.isfile(file_path):\n",
    "            yield file_path, cv2.cvtColor(cv2.imread(file_path), cv2.COLOR_BGR2RGB)"
   ]
  },
  {
   "cell_type": "code",
   "execution_count": 35,
   "id": "b787d12500bf08a3",
   "metadata": {
    "ExecuteTime": {
     "end_time": "2024-07-10T14:42:59.091342Z",
     "start_time": "2024-07-10T14:41:27.715177Z"
    }
   },
   "outputs": [
    {
     "name": "stdout",
     "output_type": "stream",
     "text": [
      "1/1 [==============================] - 0s 45ms/step\n",
      "1/1 [==============================] - 0s 42ms/step\n",
      "1/1 [==============================] - 0s 57ms/step\n",
      "1/1 [==============================] - 0s 42ms/step\n",
      "1/1 [==============================] - 0s 35ms/step\n",
      "1/1 [==============================] - 0s 40ms/step\n",
      "1/1 [==============================] - 0s 38ms/step\n",
      "1/1 [==============================] - 0s 37ms/step\n",
      "1/1 [==============================] - 0s 32ms/step\n",
      "1/1 [==============================] - 0s 38ms/step\n",
      "1/1 [==============================] - 0s 330ms/step\n",
      "1/1 [==============================] - 0s 42ms/step\n",
      "1/1 [==============================] - 0s 38ms/step\n",
      "1/1 [==============================] - 0s 55ms/step\n",
      "1/1 [==============================] - 0s 33ms/step\n",
      "1/1 [==============================] - 0s 42ms/step\n",
      "1/1 [==============================] - 0s 36ms/step\n",
      "1/1 [==============================] - 0s 34ms/step\n",
      "1/1 [==============================] - 0s 38ms/step\n",
      "1/1 [==============================] - 0s 34ms/step\n",
      "1/1 [==============================] - 0s 35ms/step\n",
      "1/1 [==============================] - 0s 35ms/step\n",
      "1/1 [==============================] - 0s 36ms/step\n",
      "1/1 [==============================] - 0s 41ms/step\n",
      "1/1 [==============================] - 0s 35ms/step\n",
      "1/1 [==============================] - 0s 36ms/step\n",
      "1/1 [==============================] - 0s 41ms/step\n",
      "1/1 [==============================] - 0s 35ms/step\n",
      "1/1 [==============================] - 0s 36ms/step\n",
      "1/1 [==============================] - 0s 39ms/step\n",
      "1/1 [==============================] - 0s 36ms/step\n",
      "1/1 [==============================] - 0s 36ms/step\n",
      "1/1 [==============================] - 0s 37ms/step\n",
      "1/1 [==============================] - 0s 41ms/step\n",
      "1/1 [==============================] - 0s 42ms/step\n",
      "1/1 [==============================] - 0s 53ms/step\n",
      "1/1 [==============================] - 0s 34ms/step\n",
      "1/1 [==============================] - 0s 39ms/step\n",
      "1/1 [==============================] - 0s 39ms/step\n",
      "1/1 [==============================] - 0s 35ms/step\n",
      "1/1 [==============================] - 0s 39ms/step\n",
      "1/1 [==============================] - 1s 575ms/step\n",
      "1/1 [==============================] - 0s 39ms/step\n",
      "1/1 [==============================] - 0s 51ms/step\n",
      "1/1 [==============================] - 0s 43ms/step\n",
      "1/1 [==============================] - 0s 47ms/step\n",
      "1/1 [==============================] - 0s 39ms/step\n",
      "1/1 [==============================] - 0s 47ms/step\n",
      "1/1 [==============================] - 0s 35ms/step\n",
      "1/1 [==============================] - 0s 34ms/step\n",
      "1/1 [==============================] - 0s 36ms/step\n",
      "1/1 [==============================] - 0s 33ms/step\n",
      "1/1 [==============================] - 0s 41ms/step\n",
      "1/1 [==============================] - 0s 35ms/step\n",
      "1/1 [==============================] - 0s 34ms/step\n",
      "1/1 [==============================] - 0s 33ms/step\n",
      "1/1 [==============================] - 0s 34ms/step\n",
      "1/1 [==============================] - 0s 36ms/step\n",
      "1/1 [==============================] - 0s 41ms/step\n",
      "1/1 [==============================] - 0s 42ms/step\n",
      "1/1 [==============================] - 0s 34ms/step\n",
      "1/1 [==============================] - 0s 31ms/step\n",
      "1/1 [==============================] - 0s 43ms/step\n",
      "1/1 [==============================] - 0s 45ms/step\n",
      "1/1 [==============================] - 0s 55ms/step\n",
      "1/1 [==============================] - 0s 52ms/step\n",
      "1/1 [==============================] - 0s 40ms/step\n",
      "1/1 [==============================] - 0s 37ms/step\n",
      "1/1 [==============================] - 0s 36ms/step\n",
      "1/1 [==============================] - 0s 34ms/step\n",
      "1/1 [==============================] - 0s 35ms/step\n",
      "1/1 [==============================] - 0s 34ms/step\n",
      "1/1 [==============================] - 0s 35ms/step\n",
      "1/1 [==============================] - 0s 431ms/step\n",
      "1/1 [==============================] - 0s 112ms/step\n",
      "1/1 [==============================] - 0s 130ms/step\n",
      "1/1 [==============================] - 0s 41ms/step\n",
      "1/1 [==============================] - 0s 56ms/step\n",
      "1/1 [==============================] - 0s 38ms/step\n",
      "1/1 [==============================] - 0s 35ms/step\n",
      "1/1 [==============================] - 0s 39ms/step\n",
      "1/1 [==============================] - 0s 40ms/step\n",
      "1/1 [==============================] - 0s 35ms/step\n",
      "1/1 [==============================] - 0s 37ms/step\n",
      "1/1 [==============================] - 0s 34ms/step\n",
      "1/1 [==============================] - 0s 46ms/step\n",
      "1/1 [==============================] - 0s 34ms/step\n",
      "1/1 [==============================] - 0s 34ms/step\n",
      "1/1 [==============================] - 0s 35ms/step\n",
      "1/1 [==============================] - 0s 35ms/step\n",
      "1/1 [==============================] - 0s 41ms/step\n",
      "1/1 [==============================] - 0s 34ms/step\n",
      "1/1 [==============================] - 0s 36ms/step\n",
      "1/1 [==============================] - 0s 37ms/step\n",
      "1/1 [==============================] - 0s 34ms/step\n",
      "1/1 [==============================] - 0s 36ms/step\n",
      "1/1 [==============================] - 0s 38ms/step\n",
      "1/1 [==============================] - 0s 39ms/step\n",
      "1/1 [==============================] - 0s 36ms/step\n",
      "1/1 [==============================] - 0s 34ms/step\n",
      "1/1 [==============================] - 0s 34ms/step\n",
      "1/1 [==============================] - 0s 35ms/step\n",
      "1/1 [==============================] - 0s 38ms/step\n",
      "1/1 [==============================] - 0s 34ms/step\n",
      "1/1 [==============================] - 0s 36ms/step\n",
      "1/1 [==============================] - 0s 35ms/step\n",
      "1/1 [==============================] - 0s 292ms/step\n",
      "1/1 [==============================] - 0s 303ms/step\n",
      "1/1 [==============================] - 0s 124ms/step\n",
      "1/1 [==============================] - 0s 47ms/step\n",
      "1/1 [==============================] - 0s 43ms/step\n",
      "1/1 [==============================] - 0s 35ms/step\n",
      "1/1 [==============================] - 0s 38ms/step\n",
      "1/1 [==============================] - 0s 33ms/step\n",
      "1/1 [==============================] - 0s 34ms/step\n",
      "1/1 [==============================] - 0s 42ms/step\n",
      "1/1 [==============================] - 0s 41ms/step\n",
      "1/1 [==============================] - 0s 41ms/step\n",
      "1/1 [==============================] - 0s 36ms/step\n",
      "1/1 [==============================] - 0s 53ms/step\n",
      "1/1 [==============================] - 0s 33ms/step\n",
      "1/1 [==============================] - 0s 32ms/step\n",
      "1/1 [==============================] - 0s 35ms/step\n",
      "1/1 [==============================] - 0s 34ms/step\n",
      "1/1 [==============================] - 0s 38ms/step\n",
      "1/1 [==============================] - 0s 36ms/step\n",
      "1/1 [==============================] - 0s 34ms/step\n",
      "1/1 [==============================] - 0s 32ms/step\n",
      "1/1 [==============================] - 0s 33ms/step\n",
      "1/1 [==============================] - 0s 40ms/step\n",
      "1/1 [==============================] - 0s 42ms/step\n",
      "1/1 [==============================] - 0s 35ms/step\n",
      "1/1 [==============================] - 0s 34ms/step\n",
      "1/1 [==============================] - 0s 36ms/step\n",
      "1/1 [==============================] - 0s 34ms/step\n",
      "1/1 [==============================] - 0s 34ms/step\n",
      "1/1 [==============================] - 0s 35ms/step\n",
      "1/1 [==============================] - 0s 32ms/step\n",
      "1/1 [==============================] - 0s 33ms/step\n",
      "1/1 [==============================] - 0s 35ms/step\n",
      "1/1 [==============================] - 0s 281ms/step\n",
      "1/1 [==============================] - 0s 139ms/step\n",
      "1/1 [==============================] - 0s 183ms/step\n",
      "1/1 [==============================] - 0s 42ms/step\n",
      "1/1 [==============================] - 0s 73ms/step\n",
      "1/1 [==============================] - 0s 68ms/step\n",
      "1/1 [==============================] - 0s 39ms/step\n",
      "1/1 [==============================] - 0s 33ms/step\n",
      "1/1 [==============================] - 0s 38ms/step\n",
      "1/1 [==============================] - 0s 37ms/step\n",
      "1/1 [==============================] - 0s 33ms/step\n",
      "1/1 [==============================] - 0s 42ms/step\n",
      "1/1 [==============================] - 0s 39ms/step\n",
      "1/1 [==============================] - 0s 36ms/step\n",
      "1/1 [==============================] - 0s 36ms/step\n",
      "1/1 [==============================] - 0s 38ms/step\n",
      "1/1 [==============================] - 0s 34ms/step\n",
      "1/1 [==============================] - 0s 38ms/step\n",
      "1/1 [==============================] - 0s 36ms/step\n",
      "1/1 [==============================] - 0s 33ms/step\n",
      "1/1 [==============================] - 0s 33ms/step\n",
      "1/1 [==============================] - 0s 34ms/step\n",
      "1/1 [==============================] - 0s 33ms/step\n",
      "1/1 [==============================] - 0s 41ms/step\n",
      "1/1 [==============================] - 0s 36ms/step\n",
      "1/1 [==============================] - 0s 32ms/step\n",
      "1/1 [==============================] - 0s 38ms/step\n",
      "1/1 [==============================] - 0s 36ms/step\n",
      "1/1 [==============================] - 0s 33ms/step\n",
      "1/1 [==============================] - 0s 33ms/step\n",
      "1/1 [==============================] - 0s 35ms/step\n",
      "1/1 [==============================] - 0s 35ms/step\n",
      "1/1 [==============================] - 0s 35ms/step\n",
      "1/1 [==============================] - 0s 39ms/step\n",
      "1/1 [==============================] - 0s 35ms/step\n",
      "1/1 [==============================] - 0s 37ms/step\n",
      "1/1 [==============================] - 0s 35ms/step\n",
      "1/1 [==============================] - 0s 36ms/step\n",
      "1/1 [==============================] - 0s 36ms/step\n",
      "1/1 [==============================] - 0s 34ms/step\n",
      "1/1 [==============================] - 0s 37ms/step\n",
      "1/1 [==============================] - 0s 38ms/step\n",
      "1/1 [==============================] - 0s 43ms/step\n",
      "1/1 [==============================] - 0s 36ms/step\n",
      "1/1 [==============================] - 0s 32ms/step\n",
      "1/1 [==============================] - 0s 39ms/step\n",
      "1/1 [==============================] - 0s 34ms/step\n",
      "1/1 [==============================] - 0s 36ms/step\n",
      "1/1 [==============================] - 0s 47ms/step\n",
      "1/1 [==============================] - 0s 42ms/step\n",
      "1/1 [==============================] - 0s 40ms/step\n",
      "1/1 [==============================] - 0s 38ms/step\n",
      "1/1 [==============================] - 0s 37ms/step\n",
      "1/1 [==============================] - 0s 40ms/step\n",
      "1/1 [==============================] - 0s 34ms/step\n",
      "1/1 [==============================] - 0s 35ms/step\n",
      "1/1 [==============================] - 0s 33ms/step\n",
      "1/1 [==============================] - 0s 37ms/step\n",
      "1/1 [==============================] - 0s 36ms/step\n",
      "1/1 [==============================] - 0s 36ms/step\n"
     ]
    }
   ],
   "source": [
    "import cv2\n",
    "import pandas as pd\n",
    "\n",
    "df = []\n",
    "for index, (path, i) in enumerate(file_iter('./rec/data/test_dataset')):\n",
    "    # 转换为128, 128\n",
    "    img = cv2.resize(i, (128, 128))\n",
    "    \n",
    "    fig, axes = plt.subplots(figsize=(16,24), nrows=1, ncols=4)\n",
    "    axes[0].imshow(img)\n",
    "    axes[0].set_title('原图')\n",
    "    \n",
    "    \n",
    "    y_hat = model.predict(np.expand_dims(img,axis=0))\n",
    "    axes[1].imshow(y_hat[0])\n",
    "    axes[1].set_title(\"预测图\")\n",
    "\n",
    "    y_hat_256 = (y_hat[0]*255).astype(np.uint8)\n",
    "    _, otsu = cv2.threshold(y_hat_256,0,255,cv2.THRESH_BINARY+cv2.THRESH_OTSU)\n",
    "    mask_otsu = np.zeros_like(otsu)\n",
    "    draw_img = img.copy().astype(np.uint8)\n",
    "    contours, hierarchy = cv2.findContours(otsu, cv2.RETR_EXTERNAL, cv2.CHAIN_APPROX_SIMPLE)\n",
    "    h_scale = i.shape[0] / 128\n",
    "    w_scale = i.shape[1] / 128\n",
    "    for contour in contours:\n",
    "        x, y, w, h = cv2.boundingRect(contour)\n",
    "        if min(w, h) < 3:\n",
    "            continue\n",
    "        cv2.rectangle(mask_otsu, (x, y), (x + w, y + h), (255, 255, 255), 1)\n",
    "        cv2.rectangle(draw_img, (x, y), (x + w, y + h), (0, 0, 255), 1)\n",
    "        \n",
    "        df.append([os.path.basename(path),f\"{int(x*w_scale)} {int(y*h_scale)} {int((x+w)*w_scale)} {int((y+h)*h_scale)}\"])\n",
    "        \n",
    "        # print(f'rect: {rect}')\n",
    "    axes[2].imshow(mask_otsu)\n",
    "    axes[2].set_title(\"预测图二值化\")\n",
    "\n",
    "    axes[3].imshow(draw_img)\n",
    "    axes[3].set_title(\"结果框绘制\")\n",
    "    \n",
    "    os.makedirs('./rec/data/test_result', exist_ok=True)\n",
    "    fig.savefig(f'./rec/data/test_result/{os.path.basename(path)}')\n",
    "    plt.close(fig)\n",
    "\n",
    "    # plt.show()\n",
    "    # if index > 2:\n",
    "    #     break\n",
    "pddf = pd.DataFrame(df)\n",
    "pddf.to_csv('rec/data/test_labels.csv', index=False, header=['ID', 'labels'])"
   ]
  },
  {
   "cell_type": "code",
   "execution_count": 36,
   "id": "4ada0ed3a71d2b8d",
   "metadata": {
    "ExecuteTime": {
     "end_time": "2024-07-10T14:47:40.337693Z",
     "start_time": "2024-07-10T14:45:35.393041Z"
    }
   },
   "outputs": [
    {
     "name": "stdout",
     "output_type": "stream",
     "text": [
      "1/1 [==============================] - 0s 51ms/step\n",
      "1/1 [==============================] - 0s 36ms/step\n",
      "1/1 [==============================] - 0s 165ms/step\n",
      "1/1 [==============================] - 0s 39ms/step\n",
      "1/1 [==============================] - 0s 35ms/step\n",
      "1/1 [==============================] - 0s 38ms/step\n",
      "1/1 [==============================] - 0s 126ms/step\n",
      "1/1 [==============================] - 0s 135ms/step\n",
      "1/1 [==============================] - 0s 106ms/step\n",
      "1/1 [==============================] - 0s 38ms/step\n",
      "1/1 [==============================] - 0s 36ms/step\n",
      "1/1 [==============================] - 0s 36ms/step\n",
      "1/1 [==============================] - 0s 42ms/step\n",
      "1/1 [==============================] - 0s 41ms/step\n",
      "1/1 [==============================] - 0s 38ms/step\n",
      "1/1 [==============================] - 0s 36ms/step\n",
      "1/1 [==============================] - 0s 37ms/step\n",
      "1/1 [==============================] - 0s 42ms/step\n",
      "1/1 [==============================] - 0s 37ms/step\n",
      "1/1 [==============================] - 0s 37ms/step\n",
      "1/1 [==============================] - 0s 41ms/step\n",
      "1/1 [==============================] - 0s 39ms/step\n",
      "1/1 [==============================] - 0s 41ms/step\n",
      "1/1 [==============================] - 0s 41ms/step\n",
      "1/1 [==============================] - 0s 40ms/step\n",
      "1/1 [==============================] - 0s 38ms/step\n",
      "1/1 [==============================] - 0s 35ms/step\n",
      "1/1 [==============================] - 0s 38ms/step\n",
      "1/1 [==============================] - 0s 38ms/step\n",
      "1/1 [==============================] - 0s 36ms/step\n",
      "1/1 [==============================] - 0s 43ms/step\n",
      "1/1 [==============================] - 0s 35ms/step\n",
      "1/1 [==============================] - 0s 38ms/step\n",
      "1/1 [==============================] - 0s 40ms/step\n",
      "1/1 [==============================] - 0s 216ms/step\n",
      "1/1 [==============================] - 0s 53ms/step\n",
      "1/1 [==============================] - 0s 42ms/step\n",
      "1/1 [==============================] - 0s 48ms/step\n",
      "1/1 [==============================] - 0s 44ms/step\n",
      "1/1 [==============================] - 0s 45ms/step\n",
      "1/1 [==============================] - 0s 39ms/step\n",
      "1/1 [==============================] - 0s 38ms/step\n",
      "1/1 [==============================] - 0s 44ms/step\n",
      "1/1 [==============================] - 0s 47ms/step\n",
      "1/1 [==============================] - 0s 57ms/step\n",
      "1/1 [==============================] - 0s 46ms/step\n",
      "1/1 [==============================] - 0s 45ms/step\n",
      "1/1 [==============================] - 0s 49ms/step\n",
      "1/1 [==============================] - 0s 52ms/step\n",
      "1/1 [==============================] - 0s 46ms/step\n",
      "1/1 [==============================] - 0s 44ms/step\n",
      "1/1 [==============================] - 0s 55ms/step\n",
      "1/1 [==============================] - 0s 54ms/step\n",
      "1/1 [==============================] - 0s 45ms/step\n",
      "1/1 [==============================] - 0s 50ms/step\n",
      "1/1 [==============================] - 0s 46ms/step\n",
      "1/1 [==============================] - 0s 50ms/step\n",
      "1/1 [==============================] - 0s 62ms/step\n",
      "1/1 [==============================] - 1s 737ms/step\n",
      "1/1 [==============================] - 0s 46ms/step\n",
      "1/1 [==============================] - 0s 48ms/step\n",
      "1/1 [==============================] - 0s 41ms/step\n",
      "1/1 [==============================] - 0s 42ms/step\n",
      "1/1 [==============================] - 0s 37ms/step\n",
      "1/1 [==============================] - 0s 43ms/step\n",
      "1/1 [==============================] - 0s 39ms/step\n",
      "1/1 [==============================] - 0s 42ms/step\n",
      "1/1 [==============================] - 0s 38ms/step\n",
      "1/1 [==============================] - 0s 37ms/step\n",
      "1/1 [==============================] - 0s 43ms/step\n",
      "1/1 [==============================] - 0s 48ms/step\n",
      "1/1 [==============================] - 0s 46ms/step\n",
      "1/1 [==============================] - 0s 44ms/step\n",
      "1/1 [==============================] - 0s 49ms/step\n",
      "1/1 [==============================] - 0s 46ms/step\n",
      "1/1 [==============================] - 0s 43ms/step\n",
      "1/1 [==============================] - 0s 41ms/step\n",
      "1/1 [==============================] - 0s 40ms/step\n",
      "1/1 [==============================] - 0s 39ms/step\n",
      "1/1 [==============================] - 0s 38ms/step\n",
      "1/1 [==============================] - 0s 42ms/step\n",
      "1/1 [==============================] - 0s 39ms/step\n",
      "1/1 [==============================] - 0s 39ms/step\n",
      "1/1 [==============================] - 0s 39ms/step\n",
      "1/1 [==============================] - 0s 39ms/step\n",
      "1/1 [==============================] - 0s 41ms/step\n",
      "1/1 [==============================] - 0s 43ms/step\n",
      "1/1 [==============================] - 0s 39ms/step\n",
      "1/1 [==============================] - 0s 41ms/step\n",
      "1/1 [==============================] - 0s 44ms/step\n",
      "1/1 [==============================] - 0s 44ms/step\n",
      "1/1 [==============================] - 0s 44ms/step\n",
      "1/1 [==============================] - 0s 46ms/step\n",
      "1/1 [==============================] - 0s 46ms/step\n",
      "1/1 [==============================] - 0s 48ms/step\n",
      "1/1 [==============================] - 0s 47ms/step\n",
      "1/1 [==============================] - 0s 48ms/step\n",
      "1/1 [==============================] - 0s 40ms/step\n",
      "1/1 [==============================] - 0s 41ms/step\n",
      "1/1 [==============================] - 0s 52ms/step\n",
      "1/1 [==============================] - 0s 48ms/step\n",
      "1/1 [==============================] - 0s 41ms/step\n",
      "1/1 [==============================] - 0s 42ms/step\n",
      "1/1 [==============================] - 0s 41ms/step\n",
      "1/1 [==============================] - 0s 46ms/step\n",
      "1/1 [==============================] - 0s 41ms/step\n",
      "1/1 [==============================] - 0s 48ms/step\n",
      "1/1 [==============================] - 0s 47ms/step\n",
      "1/1 [==============================] - 0s 50ms/step\n",
      "1/1 [==============================] - 0s 52ms/step\n",
      "1/1 [==============================] - 0s 41ms/step\n",
      "1/1 [==============================] - 0s 46ms/step\n",
      "1/1 [==============================] - 0s 46ms/step\n",
      "1/1 [==============================] - 0s 42ms/step\n",
      "1/1 [==============================] - 0s 44ms/step\n",
      "1/1 [==============================] - 0s 37ms/step\n",
      "1/1 [==============================] - 0s 37ms/step\n",
      "1/1 [==============================] - 0s 43ms/step\n",
      "1/1 [==============================] - 0s 46ms/step\n",
      "1/1 [==============================] - 0s 39ms/step\n",
      "1/1 [==============================] - 0s 40ms/step\n",
      "1/1 [==============================] - 0s 39ms/step\n",
      "1/1 [==============================] - 0s 39ms/step\n",
      "1/1 [==============================] - 0s 38ms/step\n",
      "1/1 [==============================] - 0s 42ms/step\n",
      "1/1 [==============================] - 0s 41ms/step\n",
      "1/1 [==============================] - 0s 41ms/step\n",
      "1/1 [==============================] - 0s 40ms/step\n",
      "1/1 [==============================] - 0s 40ms/step\n",
      "1/1 [==============================] - 0s 38ms/step\n",
      "1/1 [==============================] - 0s 35ms/step\n",
      "1/1 [==============================] - 0s 46ms/step\n",
      "1/1 [==============================] - 0s 45ms/step\n",
      "1/1 [==============================] - 0s 39ms/step\n",
      "1/1 [==============================] - 0s 41ms/step\n",
      "1/1 [==============================] - 0s 38ms/step\n",
      "1/1 [==============================] - 0s 52ms/step\n",
      "1/1 [==============================] - 0s 39ms/step\n",
      "1/1 [==============================] - 0s 37ms/step\n",
      "1/1 [==============================] - 0s 41ms/step\n",
      "1/1 [==============================] - 0s 40ms/step\n",
      "1/1 [==============================] - 0s 42ms/step\n",
      "1/1 [==============================] - 0s 41ms/step\n",
      "1/1 [==============================] - 0s 45ms/step\n",
      "1/1 [==============================] - 0s 42ms/step\n",
      "1/1 [==============================] - 0s 34ms/step\n",
      "1/1 [==============================] - 0s 38ms/step\n",
      "1/1 [==============================] - 0s 34ms/step\n",
      "1/1 [==============================] - 0s 41ms/step\n",
      "1/1 [==============================] - 0s 34ms/step\n",
      "1/1 [==============================] - 0s 43ms/step\n",
      "1/1 [==============================] - 0s 104ms/step\n",
      "1/1 [==============================] - 0s 35ms/step\n",
      "1/1 [==============================] - 0s 44ms/step\n",
      "1/1 [==============================] - 0s 40ms/step\n",
      "1/1 [==============================] - 0s 39ms/step\n",
      "1/1 [==============================] - 0s 47ms/step\n",
      "1/1 [==============================] - 0s 35ms/step\n",
      "1/1 [==============================] - 0s 42ms/step\n",
      "1/1 [==============================] - 0s 36ms/step\n",
      "1/1 [==============================] - 0s 40ms/step\n",
      "1/1 [==============================] - 0s 39ms/step\n",
      "1/1 [==============================] - 0s 387ms/step\n",
      "1/1 [==============================] - 0s 118ms/step\n",
      "1/1 [==============================] - 0s 38ms/step\n",
      "1/1 [==============================] - 0s 39ms/step\n",
      "1/1 [==============================] - 0s 37ms/step\n",
      "1/1 [==============================] - 0s 43ms/step\n",
      "1/1 [==============================] - 0s 50ms/step\n",
      "1/1 [==============================] - 0s 53ms/step\n",
      "1/1 [==============================] - 0s 48ms/step\n",
      "1/1 [==============================] - 0s 50ms/step\n",
      "1/1 [==============================] - 0s 43ms/step\n",
      "1/1 [==============================] - 0s 36ms/step\n",
      "1/1 [==============================] - 0s 38ms/step\n",
      "1/1 [==============================] - 0s 35ms/step\n",
      "1/1 [==============================] - 0s 37ms/step\n",
      "1/1 [==============================] - 0s 37ms/step\n",
      "1/1 [==============================] - 0s 108ms/step\n",
      "1/1 [==============================] - 0s 36ms/step\n",
      "1/1 [==============================] - 0s 39ms/step\n",
      "1/1 [==============================] - 0s 40ms/step\n",
      "1/1 [==============================] - 0s 47ms/step\n",
      "1/1 [==============================] - 0s 35ms/step\n",
      "1/1 [==============================] - 0s 42ms/step\n",
      "1/1 [==============================] - 0s 38ms/step\n",
      "1/1 [==============================] - 0s 36ms/step\n",
      "1/1 [==============================] - 0s 36ms/step\n",
      "1/1 [==============================] - 0s 43ms/step\n",
      "1/1 [==============================] - 0s 42ms/step\n",
      "1/1 [==============================] - 0s 42ms/step\n",
      "1/1 [==============================] - 0s 43ms/step\n",
      "1/1 [==============================] - 0s 35ms/step\n",
      "1/1 [==============================] - 0s 44ms/step\n",
      "1/1 [==============================] - 0s 42ms/step\n",
      "1/1 [==============================] - 0s 46ms/step\n",
      "1/1 [==============================] - 0s 38ms/step\n",
      "1/1 [==============================] - 0s 37ms/step\n",
      "1/1 [==============================] - 0s 41ms/step\n",
      "1/1 [==============================] - 0s 44ms/step\n",
      "1/1 [==============================] - 0s 38ms/step\n",
      "1/1 [==============================] - 0s 38ms/step\n",
      "1/1 [==============================] - 0s 36ms/step\n",
      "1/1 [==============================] - 0s 47ms/step\n",
      "1/1 [==============================] - 0s 38ms/step\n",
      "1/1 [==============================] - 0s 40ms/step\n",
      "1/1 [==============================] - 0s 34ms/step\n",
      "1/1 [==============================] - 0s 38ms/step\n",
      "1/1 [==============================] - 0s 36ms/step\n",
      "1/1 [==============================] - 0s 87ms/step\n",
      "1/1 [==============================] - 0s 36ms/step\n",
      "1/1 [==============================] - 0s 40ms/step\n",
      "1/1 [==============================] - 0s 35ms/step\n",
      "1/1 [==============================] - 0s 41ms/step\n",
      "1/1 [==============================] - 0s 48ms/step\n",
      "1/1 [==============================] - 0s 34ms/step\n",
      "1/1 [==============================] - 0s 36ms/step\n",
      "1/1 [==============================] - 0s 39ms/step\n",
      "1/1 [==============================] - 0s 39ms/step\n",
      "1/1 [==============================] - 0s 36ms/step\n",
      "1/1 [==============================] - 0s 49ms/step\n",
      "1/1 [==============================] - 0s 37ms/step\n",
      "1/1 [==============================] - 0s 39ms/step\n",
      "1/1 [==============================] - 0s 41ms/step\n",
      "1/1 [==============================] - 0s 40ms/step\n",
      "1/1 [==============================] - 0s 48ms/step\n",
      "1/1 [==============================] - 0s 42ms/step\n",
      "1/1 [==============================] - 0s 45ms/step\n",
      "1/1 [==============================] - 0s 34ms/step\n",
      "1/1 [==============================] - 0s 38ms/step\n",
      "1/1 [==============================] - 0s 45ms/step\n",
      "1/1 [==============================] - 0s 58ms/step\n",
      "1/1 [==============================] - 0s 46ms/step\n",
      "1/1 [==============================] - 0s 45ms/step\n",
      "1/1 [==============================] - 0s 41ms/step\n",
      "1/1 [==============================] - 0s 39ms/step\n",
      "1/1 [==============================] - 0s 42ms/step\n",
      "1/1 [==============================] - 0s 47ms/step\n",
      "1/1 [==============================] - 0s 42ms/step\n",
      "1/1 [==============================] - 0s 42ms/step\n",
      "1/1 [==============================] - 0s 40ms/step\n",
      "1/1 [==============================] - 0s 36ms/step\n",
      "1/1 [==============================] - 0s 50ms/step\n",
      "1/1 [==============================] - 0s 36ms/step\n",
      "1/1 [==============================] - 0s 39ms/step\n",
      "1/1 [==============================] - 0s 35ms/step\n",
      "1/1 [==============================] - 0s 38ms/step\n",
      "1/1 [==============================] - 0s 42ms/step\n",
      "1/1 [==============================] - 1s 883ms/step\n",
      "1/1 [==============================] - 0s 36ms/step\n"
     ]
    }
   ],
   "source": [
    "df = []\n",
    "for index, (path, i) in enumerate(file_iter('./rec/data/train_dataset')):\n",
    "    # 转换为128, 128\n",
    "    img = cv2.resize(i, (128, 128))\n",
    "    \n",
    "    fig, axes = plt.subplots(figsize=(16,24), nrows=1, ncols=4)\n",
    "    axes[0].imshow(img)\n",
    "    axes[0].set_title('原图')\n",
    "    \n",
    "    \n",
    "    y_hat = model.predict(np.expand_dims(img,axis=0))\n",
    "    axes[1].imshow(y_hat[0])\n",
    "    axes[1].set_title(\"预测图\")\n",
    "\n",
    "    y_hat_256 = (y_hat[0]*255).astype(np.uint8)\n",
    "    _, otsu = cv2.threshold(y_hat_256,0,255,cv2.THRESH_BINARY+cv2.THRESH_OTSU)\n",
    "    mask_otsu = np.zeros_like(otsu)\n",
    "    draw_img = img.copy().astype(np.uint8)\n",
    "    contours, hierarchy = cv2.findContours(otsu, cv2.RETR_EXTERNAL, cv2.CHAIN_APPROX_SIMPLE)\n",
    "    h_scale = i.shape[0] / 128\n",
    "    w_scale = i.shape[1] / 128\n",
    "    for contour in contours:\n",
    "        x, y, w, h = cv2.boundingRect(contour)\n",
    "        if min(w, h) < 3:\n",
    "            continue\n",
    "        cv2.rectangle(mask_otsu, (x, y), (x + w, y + h), (255, 255, 255), 1)\n",
    "        cv2.rectangle(draw_img, (x, y), (x + w, y + h), (0, 0, 255), 1)\n",
    "        \n",
    "        df.append([os.path.basename(path),f\"{int(x*w_scale)} {int(y*h_scale)} {int((x+w)*w_scale)} {int((y+h)*h_scale)}\"])\n",
    "        \n",
    "        # print(f'rect: {rect}')\n",
    "    axes[2].imshow(mask_otsu)\n",
    "    axes[2].set_title(\"预测图二值化\")\n",
    "\n",
    "    axes[3].imshow(draw_img)\n",
    "    axes[3].set_title(\"结果框绘制\")\n",
    "    \n",
    "    os.makedirs('./rec/data/train_result', exist_ok=True)\n",
    "    fig.savefig(f'./rec/data/train_result/{os.path.basename(path)}')\n",
    "    plt.close(fig)\n",
    "\n",
    "    # plt.show()\n",
    "    # if index > 2:\n",
    "    #     break\n",
    "pddf = pd.DataFrame(df)\n",
    "pddf.to_csv('rec/data/train__labels.csv', index=False, header=['ID', 'Detection'])"
   ]
  },
  {
   "cell_type": "markdown",
   "id": "eb20650577c2eca0",
   "metadata": {},
   "source": [
    "# 比较数据"
   ]
  },
  {
   "cell_type": "code",
   "execution_count": 51,
   "id": "70e7700306b15fa3",
   "metadata": {
    "ExecuteTime": {
     "end_time": "2024-07-10T14:58:18.986262Z",
     "start_time": "2024-07-10T14:58:18.963264Z"
    }
   },
   "outputs": [],
   "source": [
    "import polars as pl\n",
    "\n",
    "origin = pl.read_csv('rec/data/train_labels.csv').select([\n",
    "    'ID',\n",
    "    pl.col(' Detection').alias('Detection')\n",
    "]).group_by(['ID']).agg(\n",
    "    pl.col('Detection').count().alias('origin')\n",
    ")\n",
    "pred = pl.read_csv('rec/data/train__labels.csv').group_by(['ID']).agg(\n",
    "    pl.col('Detection').count().alias('pred')\n",
    ")"
   ]
  },
  {
   "cell_type": "code",
   "execution_count": 74,
   "id": "61c76864933c680b",
   "metadata": {
    "ExecuteTime": {
     "end_time": "2024-07-10T15:15:47.633829Z",
     "start_time": "2024-07-10T15:15:47.613492Z"
    }
   },
   "outputs": [
    {
     "data": {
      "text/html": [
       "<div><style>\n",
       ".dataframe > thead > tr,\n",
       ".dataframe > tbody > tr {\n",
       "  text-align: right;\n",
       "  white-space: pre-wrap;\n",
       "}\n",
       "</style>\n",
       "<small>shape: (250, 4)</small><table border=\"1\" class=\"dataframe\"><thead><tr><th>ID</th><th>origin</th><th>pred</th><th>delta</th></tr><tr><td>str</td><td>u32</td><td>u32</td><td>i32</td></tr></thead><tbody><tr><td>&quot;3BA38AEA.jpg&quot;</td><td>112</td><td>89</td><td>23</td></tr><tr><td>&quot;2A7090FC.jpg&quot;</td><td>94</td><td>75</td><td>19</td></tr><tr><td>&quot;CCB5DBEF.jpg&quot;</td><td>80</td><td>78</td><td>2</td></tr><tr><td>&quot;EFE77AB2.jpg&quot;</td><td>119</td><td>105</td><td>14</td></tr><tr><td>&quot;4463FA64.jpg&quot;</td><td>157</td><td>57</td><td>100</td></tr><tr><td>&hellip;</td><td>&hellip;</td><td>&hellip;</td><td>&hellip;</td></tr><tr><td>&quot;408EAD06.jpg&quot;</td><td>95</td><td>90</td><td>5</td></tr><tr><td>&quot;7E0BEC70.jpg&quot;</td><td>73</td><td>78</td><td>5</td></tr><tr><td>&quot;D4E8F388.jpg&quot;</td><td>93</td><td>89</td><td>4</td></tr><tr><td>&quot;738E01F9.jpg&quot;</td><td>118</td><td>98</td><td>20</td></tr><tr><td>&quot;41B2160E.jpg&quot;</td><td>96</td><td>90</td><td>6</td></tr></tbody></table></div>"
      ],
      "text/plain": [
       "shape: (250, 4)\n",
       "┌──────────────┬────────┬──────┬───────┐\n",
       "│ ID           ┆ origin ┆ pred ┆ delta │\n",
       "│ ---          ┆ ---    ┆ ---  ┆ ---   │\n",
       "│ str          ┆ u32    ┆ u32  ┆ i32   │\n",
       "╞══════════════╪════════╪══════╪═══════╡\n",
       "│ 3BA38AEA.jpg ┆ 112    ┆ 89   ┆ 23    │\n",
       "│ 2A7090FC.jpg ┆ 94     ┆ 75   ┆ 19    │\n",
       "│ CCB5DBEF.jpg ┆ 80     ┆ 78   ┆ 2     │\n",
       "│ EFE77AB2.jpg ┆ 119    ┆ 105  ┆ 14    │\n",
       "│ 4463FA64.jpg ┆ 157    ┆ 57   ┆ 100   │\n",
       "│ …            ┆ …      ┆ …    ┆ …     │\n",
       "│ 408EAD06.jpg ┆ 95     ┆ 90   ┆ 5     │\n",
       "│ 7E0BEC70.jpg ┆ 73     ┆ 78   ┆ 5     │\n",
       "│ D4E8F388.jpg ┆ 93     ┆ 89   ┆ 4     │\n",
       "│ 738E01F9.jpg ┆ 118    ┆ 98   ┆ 20    │\n",
       "│ 41B2160E.jpg ┆ 96     ┆ 90   ┆ 6     │\n",
       "└──────────────┴────────┴──────┴───────┘"
      ]
     },
     "execution_count": 74,
     "metadata": {},
     "output_type": "execute_result"
    }
   ],
   "source": [
    "joined = origin.join(pred, on='ID', how='left').with_columns([\n",
    "    (pl.col('origin').cast(pl.Int32) - pl.col('pred').cast(pl.Int32)).abs().alias('delta')\n",
    "])\n",
    "joined"
   ]
  },
  {
   "cell_type": "markdown",
   "id": "f27fddfa2f80042c",
   "metadata": {},
   "source": [
    "## 绘制QQ图"
   ]
  },
  {
   "cell_type": "code",
   "execution_count": 78,
   "id": "48713b1fd235c98a",
   "metadata": {
    "ExecuteTime": {
     "end_time": "2024-07-10T15:16:55.495148Z",
     "start_time": "2024-07-10T15:16:55.338479Z"
    }
   },
   "outputs": [
    {
     "data": {
      "image/png": "[encoded data removed]",
      "text/plain": [
       "<Figure size 576x576 with 1 Axes>"
      ]
     },
     "metadata": {
      "needs_background": "light"
     },
     "output_type": "display_data"
    }
   ],
   "source": [
    "plt.figure(figsize=(8, 8))\n",
    "plt.title('QQ图')\n",
    "plt.plot(joined['origin'].to_numpy(), joined['pred'].to_numpy(), 'o')\n",
    "max_p = max(joined['origin'].to_numpy().max(), joined['pred'].to_numpy().max())\n",
    "plt.plot([0, max_p], [0, max_p], 'r')\n",
    "plt.xlabel('origin')\n",
    "plt.ylabel('pred')\n",
    "plt.savefig('rec/data/qq.png')"
   ]
  },
  {
   "cell_type": "markdown",
   "id": "4fec3f32ddbcdacc",
   "metadata": {},
   "source": [
    "## 绘制delta直方图"
   ]
  },
  {
   "cell_type": "code",
   "execution_count": 79,
   "id": "b6f483262f509620",
   "metadata": {
    "ExecuteTime": {
     "end_time": "2024-07-10T15:16:56.798919Z",
     "start_time": "2024-07-10T15:16:56.787921Z"
    }
   },
   "outputs": [
    {
     "name": "stdout",
     "output_type": "stream",
     "text": [
      "218\n"
     ]
    }
   ],
   "source": [
    "print(joined['delta'].to_numpy().max())"
   ]
  },
  {
   "cell_type": "code",
   "execution_count": 80,
   "id": "e7bf1486886247d0",
   "metadata": {
    "ExecuteTime": {
     "end_time": "2024-07-10T15:16:57.204512Z",
     "start_time": "2024-07-10T15:16:56.959921Z"
    }
   },
   "outputs": [
    {
     "data": {
      "image/png": "[encoded data removed]",
      "text/plain": [
       "<Figure size 576x576 with 1 Axes>"
      ]
     },
     "metadata": {
      "needs_background": "light"
     },
     "output_type": "display_data"
    }
   ],
   "source": [
    "plt.figure(figsize=(8, 8))\n",
    "plt.title('delta直方图')\n",
    "plt.hist(joined['delta'].to_numpy(), bins=20)\n",
    "plt.xlabel('delta')\n",
    "plt.ylabel('count')\n",
    "plt.savefig('rec/data/delta_hist.png')"
   ]
  },
  {
   "cell_type": "code",
   "execution_count": null,
   "id": "5e35304fd6d05479",
   "metadata": {},
   "outputs": [],
   "source": []
  }
 ],
 "metadata": {
  "kernelspec": {
   "display_name": "Python 3",
   "language": "python",
   "name": "python3"
  },
  "language_info": {
   "codemirror_mode": {
    "name": "ipython",
    "version": 2
   },
   "file_extension": ".py",
   "mimetype": "text/x-python",
   "name": "python",
   "nbconvert_exporter": "python",
   "pygments_lexer": "ipython2",
   "version": "2.7.6"
  }
 },
 "nbformat": 4,
 "nbformat_minor": 5
}
