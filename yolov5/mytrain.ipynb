{
 "cells": [
  {
   "cell_type": "code",
   "execution_count": null,
   "metadata": {},
   "outputs": [],
   "source": []
  },
  {
   "cell_type": "markdown",
   "metadata": {},
   "source": [
    "# to train\n",
    "\n",
    "the teacher said, there is \"a specific way of packing up those pictures\" for yolo model to train????"
   ]
  },
  {
   "cell_type": "markdown",
   "metadata": {},
   "source": [
    "in terminal\n",
    "not enough for \"own_data\" and bar.yaml\n",
    "\n",
    "maybe no need to use\n",
    "\n",
    "```shell\n",
    "# Train YOLOv5s on COCO128 for 5 epochs\n",
    "python train.py --img 640 --batch 1 --epochs 3 --data ./own_data/bar.yaml --weights yolov5s.pt\n",
    "```\n",
    "\n",
    "so in terminal, use \"torch\" env, use \n",
    "\n",
    "```shell\n",
    "python -u \"d:\\Anaconda3\\envs\\torch\\Lib\\site-packages\\yolov5\\train.py\"\n",
    "```\n",
    "\n",
    "and set parameters in train.py"
   ]
  },
  {
   "cell_type": "markdown",
   "metadata": {},
   "source": [
    "if downloading within running fails, just download manually."
   ]
  },
  {
   "cell_type": "markdown",
   "metadata": {},
   "source": [
    "## labels\n",
    "\n",
    "labels require 5 columns, 4 columns detected\n",
    "\n",
    "it is like:\n",
    "\n",
    "\"0 10 10 100 100\"\n",
    "\n",
    "first 0 is the label name index"
   ]
  },
  {
   "cell_type": "markdown",
   "metadata": {},
   "source": [
    "## test data set for training\n",
    "\n",
    "AutoBatch: Computing optimal batch size for --imgsz 640\n",
    "AutoBatch: CUDA not detected, using default CPU batch-size 16\n",
    "\n",
    "so at least 32 img maybe\n",
    "\n",
    "for larger, use 208 = 16*13\n",
    "\n",
    "it seems that imgsize and the labels' position should match\n",
    "\n",
    "actually, label should be normalized into [0,1] !!!\n",
    "\n",
    "it should be like:\n",
    "\n",
    "0 0.25431357839459867 0.133 0.3049512378094524 0.2135\n",
    "\n",
    "may be normalized lables to match \"imgsz 640\"\n",
    "\n",
    "\n",
    "### check the correctness of label\n",
    "\n",
    "I need to get check that those normalized labels are correct.\n",
    "\n",
    "but already checked, those labels are correctly normalized.\n",
    "\n",
    "\n",
    "no no !\n",
    "\n",
    "the input of yolo sholud be \n",
    "\n",
    "[cls_index, x_center, y_center, width, height ]  normalized into [0,1]"
   ]
  },
  {
   "cell_type": "markdown",
   "metadata": {},
   "source": [
    "## train\n",
    "\n",
    "AutoAnchor: 2.98 anchors/target, 1.000 Best Possible Recall (BPR). Current anchors are a good fit to dataset\n",
    "Plotting labels to runs\\train\\exp5\\labels.jpg... \n",
    "Image sizes 640 train, 640 val     \n",
    "Using 8 dataloader workers\n",
    "Logging results to runs\\train\\exp5 \n",
    "Starting training for 100 epochs...\n",
    "\n",
    "      Epoch    GPU_mem   box_loss   obj_loss   cls_loss  Instances       Size\n",
    "  0%|          | 0/2 [00:00<?, ?it/s]\n",
    "\n",
    "\n",
    "then python breaks down\n",
    "\n",
    "now change into \"epochs = 30\" for testing\n",
    "\n",
    "use 5 workers\n",
    "\n",
    "\n",
    "### open files\n",
    "\n",
    "binary mode doesn't take an encoding argument\n",
    "\n",
    "should be like\n",
    "\n",
    "```python\n",
    "with open(opt_yaml, 'rb') as f:\n",
    "                d = yaml.safe_load(f)\n",
    "```\n",
    "\n",
    "### cache writing\n",
    "\n",
    "maybe just delete old caches to solve the warning of not being able to write into cache"
   ]
  },
  {
   "cell_type": "markdown",
   "metadata": {},
   "source": [
    "#### time\n",
    "\n",
    "27 epochs completed in 1.214 hours.\n",
    "\n",
    "100 epochs around: 1.2*100/27 around 4.5h\n",
    "\n",
    "300 epochs 13.5 h"
   ]
  },
  {
   "cell_type": "markdown",
   "metadata": {},
   "source": [
    "### train and detect together\n",
    "\n",
    "maybe\n",
    "\n",
    "```shell\n",
    "python train.py & detect.py\n",
    "```"
   ]
  },
  {
   "cell_type": "markdown",
   "metadata": {},
   "source": [
    "## results\n",
    "\n",
    "with correct data, only 30 epochs can reach pretty nice results.\n",
    "\n",
    "\n",
    "But still, mistakes exist, say, C21EF020.jpg gets no detection, but there must be.\n",
    "\n"
   ]
  }
 ],
 "metadata": {
  "kernelspec": {
   "display_name": "torch",
   "language": "python",
   "name": "python3"
  },
  "language_info": {
   "codemirror_mode": {
    "name": "ipython",
    "version": 3
   },
   "file_extension": ".py",
   "mimetype": "text/x-python",
   "name": "python",
   "nbconvert_exporter": "python",
   "pygments_lexer": "ipython3",
   "version": "3.10.0"
  }
 },
 "nbformat": 4,
 "nbformat_minor": 2
}
